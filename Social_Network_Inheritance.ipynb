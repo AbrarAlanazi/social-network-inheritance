{
  "nbformat": 4,
  "nbformat_minor": 0,
  "metadata": {
    "colab": {
      "provenance": []
    },
    "kernelspec": {
      "name": "python3",
      "display_name": "Python 3"
    },
    "language_info": {
      "name": "python"
    }
  },
  "cells": [
    {
      "cell_type": "code",
      "execution_count": 1,
      "metadata": {
        "colab": {
          "base_uri": "https://localhost:8080/"
        },
        "id": "UJXW8oMh1liN",
        "outputId": "42a232c7-5c01-44c9-be5a-397085b947f4"
      },
      "outputs": [
        {
          "output_type": "stream",
          "name": "stdout",
          "text": [
            "[<__main__.User object at 0x7d01a6769750>, <__main__.User object at 0x7d01a67696f0>]\n",
            "['Post 3', 'Post 2', 'Post 1']\n"
          ]
        }
      ],
      "source": [
        "from datetime import datetime\n",
        "\n",
        "class Post:\n",
        "    def __init__(self, text):\n",
        "        self.text = text\n",
        "        self.user = None\n",
        "        self.timestamp = datetime.now()\n",
        "\n",
        "    def __str__(self):\n",
        "        return f\"{self.user.first_name} {self.user.last_name}: \\\"{self.text}\\\"\\n  {self.timestamp.strftime('%A, %b %d, %Y')}\"\n",
        "\n",
        "class TextPost(Post):\n",
        "    def __init__(self, text):\n",
        "        super().__init__(text)\n",
        "\n",
        "class PicturePost(Post):\n",
        "    def __init__(self, text, image_url):\n",
        "        super().__init__(text)\n",
        "        self.image_url = image_url\n",
        "\n",
        "    def __str__(self):\n",
        "        return f\"{self.user.first_name} {self.user.last_name}: \\\"{self.text}\\\"\\n  Pic URL: {self.image_url}\\n  {self.timestamp.strftime('%A, %b %d, %Y')}\"\n",
        "\n",
        "class CheckInPost(Post):\n",
        "    def __init__(self, text, latitude, longitude):\n",
        "        super().__init__(text)\n",
        "        self.latitude = latitude\n",
        "        self.longitude = longitude\n",
        "\n",
        "    def __str__(self):\n",
        "        return f\"{self.user.first_name} Checked In: \\\"{self.text}\\\"\\n  {self.latitude}, {self.longitude}\\n  {self.timestamp.strftime('%A, %b %d, %Y')}\"\n",
        "\n",
        "class User:\n",
        "    def __init__(self, first_name, last_name, email):\n",
        "        self.first_name = first_name\n",
        "        self.last_name = last_name\n",
        "        self.email = email\n",
        "        self.posts = []\n",
        "        self.following = []\n",
        "\n",
        "    def add_post(self, post):\n",
        "        post.user = self\n",
        "        self.posts.append(post)\n",
        "\n",
        "    def follow(self, user):\n",
        "        self.following.append(user)\n",
        "\n",
        "    def get_timeline(self):\n",
        "        timeline = []\n",
        "        for user in self.following:\n",
        "            for post in user.posts:\n",
        "                timeline.append(post)\n",
        "        timeline.sort(key=lambda x: x.timestamp, reverse=True)\n",
        "        return timeline\n",
        "\n",
        "# Example Usage\n",
        "john = User(\"John\", \"Lennon\", \"john@rmotr.com\")\n",
        "paul = User(\"Paul\", \"McCartney\", \"paul@rmotr.com\")\n",
        "george = User(\"George\", \"Harrison\", \"george@rmotr.com\")\n",
        "\n",
        "john.follow(paul)\n",
        "john.follow(george)\n",
        "\n",
        "paul.add_post(TextPost(\"Post 1\"))\n",
        "george.add_post(TextPost(\"Post 2\"))\n",
        "paul.add_post(TextPost(\"Post 3\"))\n",
        "\n",
        "print(john.following)\n",
        "print([post.text for post in john.get_timeline()])"
      ]
    }
  ]
}